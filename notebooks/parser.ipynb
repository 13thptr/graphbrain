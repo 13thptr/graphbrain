{
 "cells": [
  {
   "cell_type": "markdown",
   "metadata": {},
   "source": [
    "# Graphbrain parser\n",
    "\n",
    "This notebook is a simple demonstration of the Graphbrain parser, which transforms a sentence in natural language into an hyperedge."
   ]
  },
  {
   "cell_type": "code",
   "execution_count": 1,
   "metadata": {
    "ExecuteTime": {
     "end_time": "2019-06-14T13:49:07.257939Z",
     "start_time": "2019-06-14T13:49:06.683813Z"
    }
   },
   "outputs": [],
   "source": [
    "from graphbrain.notebook import *\n",
    "from graphbrain.parsers import *"
   ]
  },
  {
   "cell_type": "markdown",
   "metadata": {},
   "source": [
    "**Note**: When the cell bellow is run, the parser is initalized. This can take from a few seconds to a minute."
   ]
  },
  {
   "cell_type": "code",
   "execution_count": 2,
   "metadata": {
    "ExecuteTime": {
     "end_time": "2019-06-14T13:49:23.060218Z",
     "start_time": "2019-06-14T13:49:08.551939Z"
    }
   },
   "outputs": [],
   "source": [
    "# create the parser object\n",
    "parser = create_parser(name='en')"
   ]
  },
  {
   "cell_type": "code",
   "execution_count": 3,
   "metadata": {
    "ExecuteTime": {
     "end_time": "2019-06-14T13:49:23.156754Z",
     "start_time": "2019-06-14T13:49:23.073864Z"
    },
    "scrolled": true
   },
   "outputs": [
    {
     "data": {
      "text/html": [
       "<span style=\"color:#a65628\"><span style=\"font-weight:bold;font-size:12pt;\">(</span><span style=\"font-size:12pt;\"><span style=\"font-weight:bold;color:#a65628\">is</span></span> <div style=\"margin-left:20px;color:#377eb8\"><span style=\"font-weight:bold;font-size:12pt;\">[</span><span style=\"font-size:12pt;\"><span style=\"font-weight:bold;color:#377eb8\">:</span></span> <div style=\"margin-left:20px;color:#4daf4a\"><span style=\"font-weight:bold;font-size:12pt;\">[</span><span style=\"font-size:12pt;\"><span style=\"font-weight:bold;color:#4daf4a\">the</span></span> <span style=\"color:#984ea3\"><span style=\"font-weight:bold;font-size:12pt;\">[</span><span style=\"font-size:12pt;\"><span style=\"font-weight:bold;color:#984ea3\">+</span></span> <span style=\"font-size:12pt;\"><span style=\"color:#404040\">turing</span></span> <span style=\"font-size:12pt;\"><span style=\"color:#404040\">test</span></span><span style=\"color:#984ea3\">\n",
       "            <span style=\"font-weight:bold;font-size:12pt;\">]</span>\n",
       "        </span><span style=\"color:#4daf4a\">\n",
       "            <span style=\"font-weight:bold;font-size:12pt;\">]</span>\n",
       "        </span></span></div> <div style=\"margin-left:20px;color:#4daf4a\"><span style=\"font-weight:bold;font-size:12pt;\">(</span><span style=\"font-size:12pt;\"><span style=\"font-weight:bold;color:#4daf4a\">developed</span></span> <div style=\"margin-left:20px;color:#984ea3\"><span style=\"font-weight:bold;font-size:12pt;\">(</span><span style=\"font-size:12pt;\"><span style=\"font-weight:bold;color:#984ea3\">by</span></span> <span style=\"color:#ff7f00\"><span style=\"font-weight:bold;font-size:12pt;\">[</span><span style=\"font-size:12pt;\"><span style=\"font-weight:bold;color:#ff7f00\">+</span></span> <span style=\"font-size:12pt;\"><span style=\"color:#404040\">alan</span></span> <span style=\"font-size:12pt;\"><span style=\"color:#404040\">turing</span></span><span style=\"color:#ff7f00\">\n",
       "            <span style=\"font-weight:bold;font-size:12pt;\">]</span>\n",
       "        </span><span style=\"color:#984ea3\">\n",
       "            <span style=\"font-weight:bold;font-size:12pt;\">)</span>\n",
       "        </span></span></div> <div style=\"margin-left:20px;color:#984ea3\"><span style=\"font-weight:bold;font-size:12pt;\">{</span><span style=\"font-size:12pt;\"><span style=\"font-weight:bold;color:#984ea3\">in</span></span> <span style=\"font-size:12pt;\"><span style=\"color:#404040\">1950</span></span><span style=\"color:#984ea3\">\n",
       "            <span style=\"font-weight:bold;font-size:12pt;\">}</span>\n",
       "        </span><span style=\"color:#4daf4a\">\n",
       "            <span style=\"font-weight:bold;font-size:12pt;\">)</span>\n",
       "        </span><span style=\"color:#377eb8\">\n",
       "            <span style=\"font-weight:bold;font-size:12pt;\">]</span>\n",
       "        </span></div></div></div> <div style=\"margin-left:20px;color:#377eb8\"><span style=\"font-weight:bold;font-size:12pt;\">[</span><span style=\"font-size:12pt;\"><span style=\"font-weight:bold;color:#377eb8\">a</span></span> <span style=\"color:#4daf4a\"><span style=\"font-weight:bold;font-size:12pt;\">[</span><span style=\"font-size:12pt;\"><span style=\"font-weight:bold;color:#4daf4a\">of</span></span> <div style=\"margin-left:20px;font-size:12pt;\"><span style=\"color:#404040\">test</span></div> <div style=\"margin-left:20px;color:#984ea3\"><span style=\"font-weight:bold;font-size:12pt;\">[</span><span style=\"font-size:12pt;\"><span style=\"font-weight:bold;color:#984ea3\">+</span></span> <span style=\"font-size:12pt;\"><span style=\"color:#404040\">machine</span></span> <span style=\"font-size:12pt;\"><span style=\"color:#404040\">intelligence</span></span><span style=\"color:#984ea3\">\n",
       "            <span style=\"font-weight:bold;font-size:12pt;\">]</span>\n",
       "        </span><span style=\"color:#4daf4a\">\n",
       "            <span style=\"font-weight:bold;font-size:12pt;\">]</span>\n",
       "        </span><span style=\"color:#377eb8\">\n",
       "            <span style=\"font-weight:bold;font-size:12pt;\">]</span>\n",
       "        </span><span style=\"color:#a65628\">\n",
       "            <span style=\"font-weight:bold;font-size:12pt;\">)</span>\n",
       "        </span></div></span></div></span>"
      ],
      "text/plain": [
       "<IPython.core.display.HTML object>"
      ]
     },
     "metadata": {},
     "output_type": "display_data"
    }
   ],
   "source": [
    "# change to whatever you like...\n",
    "text = \"\"\"\n",
    "The Turing test, developed by Alan Turing in 1950, is a test of machine intelligence.\n",
    "\"\"\"\n",
    "\n",
    "roots_only = True\n",
    "formatting = 'compact'\n",
    "tree = False\n",
    "\n",
    "parses = parser.parse(text)\n",
    "for parse in parses:\n",
    "    if tree:\n",
    "        print_tree(parse['spacy_sentence'].root)\n",
    "    show(parse['main_edge'], roots_only=roots_only, formatting=formatting)"
   ]
  }
 ],
 "metadata": {
  "kernelspec": {
   "display_name": "Python 3",
   "language": "python",
   "name": "python3"
  },
  "language_info": {
   "codemirror_mode": {
    "name": "ipython",
    "version": 3
   },
   "file_extension": ".py",
   "mimetype": "text/x-python",
   "name": "python",
   "nbconvert_exporter": "python",
   "pygments_lexer": "ipython3",
   "version": "3.7.3"
  }
 },
 "nbformat": 4,
 "nbformat_minor": 2
}
