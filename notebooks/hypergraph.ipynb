{
 "cells": [
  {
   "cell_type": "markdown",
   "metadata": {},
   "source": [
    "# Hypergraph operations\n",
    "\n",
    "This notebook provides examples of several operations with an hypergraph, namely:\n",
    "\n",
    "* Creating an hypergraph\n",
    "* Adding the result of parsing natural text to an hypergraph\n",
    "* Pattern-based queries"
   ]
  },
  {
   "cell_type": "code",
   "execution_count": 1,
   "metadata": {
    "ExecuteTime": {
     "end_time": "2019-09-27T13:47:48.959837Z",
     "start_time": "2019-09-27T13:47:48.357965Z"
    }
   },
   "outputs": [],
   "source": [
    "from graphbrain import *\n",
    "from graphbrain.notebook import *\n",
    "from graphbrain.parsers import *"
   ]
  },
  {
   "cell_type": "markdown",
   "metadata": {},
   "source": [
    "## Create the hypergraph"
   ]
  },
  {
   "cell_type": "code",
   "execution_count": 2,
   "metadata": {
    "ExecuteTime": {
     "end_time": "2019-09-27T13:47:50.908548Z",
     "start_time": "2019-09-27T13:47:50.896936Z"
    }
   },
   "outputs": [],
   "source": [
    "hg = hgraph('example.hg')"
   ]
  },
  {
   "cell_type": "markdown",
   "metadata": {},
   "source": [
    "## Create the parser"
   ]
  },
  {
   "cell_type": "code",
   "execution_count": 3,
   "metadata": {
    "ExecuteTime": {
     "end_time": "2019-09-27T13:48:04.845528Z",
     "start_time": "2019-09-27T13:47:52.910920Z"
    }
   },
   "outputs": [],
   "source": [
    "parser = create_parser(name='en')"
   ]
  },
  {
   "cell_type": "markdown",
   "metadata": {},
   "source": [
    "## Parse text and add to hypergraph"
   ]
  },
  {
   "cell_type": "code",
   "execution_count": 5,
   "metadata": {
    "ExecuteTime": {
     "end_time": "2019-09-27T13:48:16.809393Z",
     "start_time": "2019-09-27T13:48:16.770484Z"
    }
   },
   "outputs": [
    {
     "data": {
      "text/html": [
       "<span style=\"color:#a65628\"><span style=\"font-weight:bold;font-size:12pt;\">(</span><span style=\"color:#377eb8\"><span style=\"font-weight:bold;font-size:12pt;\">(</span><span style=\"font-size:12pt;\"><span style=\"font-weight:bold;color:#377eb8\">is</span></span> <span style=\"font-size:12pt;\"><span style=\"font-weight:bold;color:#404040\">playing</span></span><span style=\"color:#377eb8\">\n",
       "            <span style=\"font-weight:bold;font-size:12pt;\">)</span>\n",
       "        </span></span> <div style=\"margin-left:20px;font-size:12pt;\"><span style=\"color:#404040\">mary</span></div> <div style=\"margin-left:20px;color:#377eb8\"><span style=\"font-weight:bold;font-size:12pt;\">[</span><span style=\"font-size:12pt;\"><span style=\"font-weight:bold;color:#377eb8\">a</span></span> <span style=\"color:#4daf4a\"><span style=\"font-weight:bold;font-size:12pt;\">[</span><span style=\"color:#984ea3\"><span style=\"font-weight:bold;font-size:12pt;\">(</span><span style=\"font-size:12pt;\"><span style=\"font-weight:bold;color:#984ea3\">very</span></span> <span style=\"font-size:12pt;\"><span style=\"font-weight:bold;color:#404040\">old</span></span><span style=\"color:#984ea3\">\n",
       "            <span style=\"font-weight:bold;font-size:12pt;\">)</span>\n",
       "        </span></span> <span style=\"font-size:12pt;\"><span style=\"color:#404040\">violin</span></span><span style=\"color:#4daf4a\">\n",
       "            <span style=\"font-weight:bold;font-size:12pt;\">]</span>\n",
       "        </span><span style=\"color:#377eb8\">\n",
       "            <span style=\"font-weight:bold;font-size:12pt;\">]</span>\n",
       "        </span><span style=\"color:#a65628\">\n",
       "            <span style=\"font-weight:bold;font-size:12pt;\">)</span>\n",
       "        </span></span></div></span>"
      ],
      "text/plain": [
       "<IPython.core.display.HTML object>"
      ]
     },
     "metadata": {},
     "output_type": "display_data"
    }
   ],
   "source": [
    "# change to whatever you like...\n",
    "text = \"\"\"\n",
    "Mary is playing a very old violin.\n",
    "\"\"\"\n",
    "\n",
    "parses = parser.parse(text)\n",
    "for parse in parses:\n",
    "    edge = parse['main_edge']\n",
    "    show(edge, formatting='compact')\n",
    "    hg.add(edge)"
   ]
  },
  {
   "cell_type": "markdown",
   "metadata": {},
   "source": [
    "## Iterate through all edges"
   ]
  },
  {
   "cell_type": "code",
   "execution_count": 6,
   "metadata": {
    "ExecuteTime": {
     "end_time": "2019-09-27T13:48:19.869152Z",
     "start_time": "2019-09-27T13:48:19.715516Z"
    }
   },
   "outputs": [
    {
     "data": {
      "text/html": [
       "<span style=\"color:#a65628\"><span style=\"font-weight:bold;font-size:11pt;\">(</span><span style=\"color:#377eb8\"><span style=\"font-weight:bold;font-size:11pt;\">(</span><span style=\"font-size:11pt;\">\n",
       "            <span style=\"font-weight:bold;color:#377eb8\">is</span><span style=\"color:#7F7F6F;font-size:8pt\">/a</span>\n",
       "            </span> <span style=\"font-size:11pt;\">\n",
       "            <span style=\"font-weight:bold;color:#404040\">playing</span><span style=\"color:#7F7F6F;font-size:8pt\">/pd.so</span>\n",
       "            </span><span style=\"color:#377eb8\">\n",
       "            <span style=\"font-weight:bold;font-size:11pt;\">)</span>\n",
       "        </span></span> <span style=\"font-size:11pt;\">\n",
       "            <span style=\"color:#404040\">mary</span><span style=\"color:#7F7F6F;font-size:8pt\">/cp.s</span>\n",
       "            </span> <span style=\"color:#377eb8\"><span style=\"font-weight:bold;font-size:11pt;\">[</span><span style=\"font-size:11pt;\">\n",
       "            <span style=\"font-weight:bold;color:#377eb8\">a</span><span style=\"color:#7F7F6F;font-size:8pt\">/md</span>\n",
       "            </span> <span style=\"color:#4daf4a\"><span style=\"font-weight:bold;font-size:11pt;\">[</span><span style=\"color:#984ea3\"><span style=\"font-weight:bold;font-size:11pt;\">(</span><span style=\"font-size:11pt;\">\n",
       "            <span style=\"font-weight:bold;color:#984ea3\">very</span><span style=\"color:#7F7F6F;font-size:8pt\">/w</span>\n",
       "            </span> <span style=\"font-size:11pt;\">\n",
       "            <span style=\"font-weight:bold;color:#404040\">old</span><span style=\"color:#7F7F6F;font-size:8pt\">/ma</span>\n",
       "            </span><span style=\"color:#984ea3\">\n",
       "            <span style=\"font-weight:bold;font-size:11pt;\">)</span>\n",
       "        </span></span> <span style=\"font-size:11pt;\">\n",
       "            <span style=\"color:#404040\">violin</span><span style=\"color:#7F7F6F;font-size:8pt\">/cn.s</span>\n",
       "            </span><span style=\"color:#4daf4a\">\n",
       "            <span style=\"font-weight:bold;font-size:11pt;\">]</span>\n",
       "        </span><span style=\"color:#377eb8\">\n",
       "            <span style=\"font-weight:bold;font-size:11pt;\">]</span>\n",
       "        </span><span style=\"color:#a65628\">\n",
       "            <span style=\"font-weight:bold;font-size:11pt;\">)</span>\n",
       "        </span></span></span></span>"
      ],
      "text/plain": [
       "<IPython.core.display.HTML object>"
      ]
     },
     "metadata": {},
     "output_type": "display_data"
    },
    {
     "data": {
      "text/html": [
       "<span style=\"color:#a65628\"><span style=\"font-weight:bold;font-size:11pt;\">(</span><span style=\"color:#377eb8\"><span style=\"font-weight:bold;font-size:11pt;\">(</span><span style=\"font-size:11pt;\">\n",
       "            <span style=\"font-weight:bold;color:#377eb8\">is</span><span style=\"color:#7F7F6F;font-size:8pt\">/av.|f--3s</span>\n",
       "            </span> <span style=\"font-size:11pt;\">\n",
       "            <span style=\"font-weight:bold;color:#404040\">playing</span><span style=\"color:#7F7F6F;font-size:8pt\">/pd.|pg---.so</span>\n",
       "            </span><span style=\"color:#377eb8\">\n",
       "            <span style=\"font-weight:bold;font-size:11pt;\">)</span>\n",
       "        </span></span> <span style=\"font-size:11pt;\">\n",
       "            <span style=\"color:#404040\">mary</span><span style=\"color:#7F7F6F;font-size:8pt\">/cp.s</span>\n",
       "            </span> <span style=\"color:#377eb8\"><span style=\"font-weight:bold;font-size:11pt;\">[</span><span style=\"font-size:11pt;\">\n",
       "            <span style=\"font-weight:bold;color:#377eb8\">a</span><span style=\"color:#7F7F6F;font-size:8pt\">/md</span>\n",
       "            </span> <span style=\"color:#4daf4a\"><span style=\"font-weight:bold;font-size:11pt;\">[</span><span style=\"color:#984ea3\"><span style=\"font-weight:bold;font-size:11pt;\">(</span><span style=\"font-size:11pt;\">\n",
       "            <span style=\"font-weight:bold;color:#984ea3\">very</span><span style=\"color:#7F7F6F;font-size:8pt\">/w</span>\n",
       "            </span> <span style=\"font-size:11pt;\">\n",
       "            <span style=\"font-weight:bold;color:#404040\">old</span><span style=\"color:#7F7F6F;font-size:8pt\">/ma</span>\n",
       "            </span><span style=\"color:#984ea3\">\n",
       "            <span style=\"font-weight:bold;font-size:11pt;\">)</span>\n",
       "        </span></span> <span style=\"font-size:11pt;\">\n",
       "            <span style=\"color:#404040\">violin</span><span style=\"color:#7F7F6F;font-size:8pt\">/cn.s</span>\n",
       "            </span><span style=\"color:#4daf4a\">\n",
       "            <span style=\"font-weight:bold;font-size:11pt;\">]</span>\n",
       "        </span><span style=\"color:#377eb8\">\n",
       "            <span style=\"font-weight:bold;font-size:11pt;\">]</span>\n",
       "        </span><span style=\"color:#a65628\">\n",
       "            <span style=\"font-weight:bold;font-size:11pt;\">)</span>\n",
       "        </span></span></span></span>"
      ],
      "text/plain": [
       "<IPython.core.display.HTML object>"
      ]
     },
     "metadata": {},
     "output_type": "display_data"
    },
    {
     "data": {
      "text/html": [
       "<span style=\"color:#a65628\"><span style=\"font-weight:bold;font-size:11pt;\">(</span><span style=\"color:#377eb8\"><span style=\"font-weight:bold;font-size:11pt;\">(</span><span style=\"font-size:11pt;\">\n",
       "            <span style=\"font-weight:bold;color:#377eb8\">is</span><span style=\"color:#7F7F6F;font-size:8pt\">/av.|f--3s/en</span>\n",
       "            </span> <span style=\"font-size:11pt;\">\n",
       "            <span style=\"font-weight:bold;color:#404040\">playing</span><span style=\"color:#7F7F6F;font-size:8pt\">/pd.|pg---.so/en</span>\n",
       "            </span><span style=\"color:#377eb8\">\n",
       "            <span style=\"font-weight:bold;font-size:11pt;\">)</span>\n",
       "        </span></span> <span style=\"font-size:11pt;\">\n",
       "            <span style=\"color:#404040\">mary</span><span style=\"color:#7F7F6F;font-size:8pt\">/cp.s/en</span>\n",
       "            </span> <span style=\"color:#377eb8\"><span style=\"font-weight:bold;font-size:11pt;\">[</span><span style=\"font-size:11pt;\">\n",
       "            <span style=\"font-weight:bold;color:#377eb8\">a</span><span style=\"color:#7F7F6F;font-size:8pt\">/md/en</span>\n",
       "            </span> <span style=\"color:#4daf4a\"><span style=\"font-weight:bold;font-size:11pt;\">[</span><span style=\"color:#984ea3\"><span style=\"font-weight:bold;font-size:11pt;\">(</span><span style=\"font-size:11pt;\">\n",
       "            <span style=\"font-weight:bold;color:#984ea3\">very</span><span style=\"color:#7F7F6F;font-size:8pt\">/w/en</span>\n",
       "            </span> <span style=\"font-size:11pt;\">\n",
       "            <span style=\"font-weight:bold;color:#404040\">old</span><span style=\"color:#7F7F6F;font-size:8pt\">/ma/en</span>\n",
       "            </span><span style=\"color:#984ea3\">\n",
       "            <span style=\"font-weight:bold;font-size:11pt;\">)</span>\n",
       "        </span></span> <span style=\"font-size:11pt;\">\n",
       "            <span style=\"color:#404040\">violin</span><span style=\"color:#7F7F6F;font-size:8pt\">/cc.s/en</span>\n",
       "            </span><span style=\"color:#4daf4a\">\n",
       "            <span style=\"font-weight:bold;font-size:11pt;\">]</span>\n",
       "        </span><span style=\"color:#377eb8\">\n",
       "            <span style=\"font-weight:bold;font-size:11pt;\">]</span>\n",
       "        </span><span style=\"color:#a65628\">\n",
       "            <span style=\"font-weight:bold;font-size:11pt;\">)</span>\n",
       "        </span></span></span></span>"
      ],
      "text/plain": [
       "<IPython.core.display.HTML object>"
      ]
     },
     "metadata": {},
     "output_type": "display_data"
    },
    {
     "data": {
      "text/html": [
       "<span style=\"color:#a65628\"><span style=\"font-weight:bold;font-size:11pt;\">[</span><span style=\"color:#377eb8\"><span style=\"font-weight:bold;font-size:11pt;\">(</span><span style=\"font-size:11pt;\">\n",
       "            <span style=\"font-weight:bold;color:#377eb8\">very</span><span style=\"color:#7F7F6F;font-size:8pt\">/w</span>\n",
       "            </span> <span style=\"font-size:11pt;\">\n",
       "            <span style=\"font-weight:bold;color:#404040\">old</span><span style=\"color:#7F7F6F;font-size:8pt\">/ma</span>\n",
       "            </span><span style=\"color:#377eb8\">\n",
       "            <span style=\"font-weight:bold;font-size:11pt;\">)</span>\n",
       "        </span></span> <span style=\"font-size:11pt;\">\n",
       "            <span style=\"color:#404040\">violin</span><span style=\"color:#7F7F6F;font-size:8pt\">/cn.s</span>\n",
       "            </span><span style=\"color:#a65628\">\n",
       "            <span style=\"font-weight:bold;font-size:11pt;\">]</span>\n",
       "        </span></span>"
      ],
      "text/plain": [
       "<IPython.core.display.HTML object>"
      ]
     },
     "metadata": {},
     "output_type": "display_data"
    },
    {
     "data": {
      "text/html": [
       "<span style=\"color:#a65628\"><span style=\"font-weight:bold;font-size:11pt;\">[</span><span style=\"color:#377eb8\"><span style=\"font-weight:bold;font-size:11pt;\">(</span><span style=\"font-size:11pt;\">\n",
       "            <span style=\"font-weight:bold;color:#377eb8\">very</span><span style=\"color:#7F7F6F;font-size:8pt\">/w/en</span>\n",
       "            </span> <span style=\"font-size:11pt;\">\n",
       "            <span style=\"font-weight:bold;color:#404040\">old</span><span style=\"color:#7F7F6F;font-size:8pt\">/ma/en</span>\n",
       "            </span><span style=\"color:#377eb8\">\n",
       "            <span style=\"font-weight:bold;font-size:11pt;\">)</span>\n",
       "        </span></span> <span style=\"font-size:11pt;\">\n",
       "            <span style=\"color:#404040\">violin</span><span style=\"color:#7F7F6F;font-size:8pt\">/cc.s/en</span>\n",
       "            </span><span style=\"color:#a65628\">\n",
       "            <span style=\"font-weight:bold;font-size:11pt;\">]</span>\n",
       "        </span></span>"
      ],
      "text/plain": [
       "<IPython.core.display.HTML object>"
      ]
     },
     "metadata": {},
     "output_type": "display_data"
    },
    {
     "data": {
      "text/html": [
       "<span style=\"color:#a65628\"><span style=\"font-weight:bold;font-size:11pt;\">[</span><span style=\"font-size:11pt;\">\n",
       "            <span style=\"font-weight:bold;color:#a65628\">a</span><span style=\"color:#7F7F6F;font-size:8pt\">/md</span>\n",
       "            </span> <span style=\"color:#377eb8\"><span style=\"font-weight:bold;font-size:11pt;\">[</span><span style=\"color:#4daf4a\"><span style=\"font-weight:bold;font-size:11pt;\">(</span><span style=\"font-size:11pt;\">\n",
       "            <span style=\"font-weight:bold;color:#4daf4a\">very</span><span style=\"color:#7F7F6F;font-size:8pt\">/w</span>\n",
       "            </span> <span style=\"font-size:11pt;\">\n",
       "            <span style=\"font-weight:bold;color:#404040\">old</span><span style=\"color:#7F7F6F;font-size:8pt\">/ma</span>\n",
       "            </span><span style=\"color:#4daf4a\">\n",
       "            <span style=\"font-weight:bold;font-size:11pt;\">)</span>\n",
       "        </span></span> <span style=\"font-size:11pt;\">\n",
       "            <span style=\"color:#404040\">violin</span><span style=\"color:#7F7F6F;font-size:8pt\">/cn.s</span>\n",
       "            </span><span style=\"color:#377eb8\">\n",
       "            <span style=\"font-weight:bold;font-size:11pt;\">]</span>\n",
       "        </span><span style=\"color:#a65628\">\n",
       "            <span style=\"font-weight:bold;font-size:11pt;\">]</span>\n",
       "        </span></span></span>"
      ],
      "text/plain": [
       "<IPython.core.display.HTML object>"
      ]
     },
     "metadata": {},
     "output_type": "display_data"
    },
    {
     "data": {
      "text/html": [
       "<span style=\"color:#a65628\"><span style=\"font-weight:bold;font-size:11pt;\">[</span><span style=\"font-size:11pt;\">\n",
       "            <span style=\"font-weight:bold;color:#a65628\">a</span><span style=\"color:#7F7F6F;font-size:8pt\">/md/en</span>\n",
       "            </span> <span style=\"color:#377eb8\"><span style=\"font-weight:bold;font-size:11pt;\">[</span><span style=\"color:#4daf4a\"><span style=\"font-weight:bold;font-size:11pt;\">(</span><span style=\"font-size:11pt;\">\n",
       "            <span style=\"font-weight:bold;color:#4daf4a\">very</span><span style=\"color:#7F7F6F;font-size:8pt\">/w/en</span>\n",
       "            </span> <span style=\"font-size:11pt;\">\n",
       "            <span style=\"font-weight:bold;color:#404040\">old</span><span style=\"color:#7F7F6F;font-size:8pt\">/ma/en</span>\n",
       "            </span><span style=\"color:#4daf4a\">\n",
       "            <span style=\"font-weight:bold;font-size:11pt;\">)</span>\n",
       "        </span></span> <span style=\"font-size:11pt;\">\n",
       "            <span style=\"color:#404040\">violin</span><span style=\"color:#7F7F6F;font-size:8pt\">/cc.s/en</span>\n",
       "            </span><span style=\"color:#377eb8\">\n",
       "            <span style=\"font-weight:bold;font-size:11pt;\">]</span>\n",
       "        </span><span style=\"color:#a65628\">\n",
       "            <span style=\"font-weight:bold;font-size:11pt;\">]</span>\n",
       "        </span></span></span>"
      ],
      "text/plain": [
       "<IPython.core.display.HTML object>"
      ]
     },
     "metadata": {},
     "output_type": "display_data"
    },
    {
     "data": {
      "text/html": [
       "<span style=\"color:#a65628\"><span style=\"font-weight:bold;font-size:11pt;\">(</span><span style=\"font-size:11pt;\">\n",
       "            <span style=\"font-weight:bold;color:#a65628\">is</span><span style=\"color:#7F7F6F;font-size:8pt\">/a</span>\n",
       "            </span> <span style=\"font-size:11pt;\">\n",
       "            <span style=\"color:#404040\">playing</span><span style=\"color:#7F7F6F;font-size:8pt\">/pd.so</span>\n",
       "            </span><span style=\"color:#a65628\">\n",
       "            <span style=\"font-weight:bold;font-size:11pt;\">)</span>\n",
       "        </span></span>"
      ],
      "text/plain": [
       "<IPython.core.display.HTML object>"
      ]
     },
     "metadata": {},
     "output_type": "display_data"
    },
    {
     "data": {
      "text/html": [
       "<span style=\"color:#a65628\"><span style=\"font-weight:bold;font-size:11pt;\">(</span><span style=\"font-size:11pt;\">\n",
       "            <span style=\"font-weight:bold;color:#a65628\">is</span><span style=\"color:#7F7F6F;font-size:8pt\">/av.|f--3s</span>\n",
       "            </span> <span style=\"font-size:11pt;\">\n",
       "            <span style=\"color:#404040\">playing</span><span style=\"color:#7F7F6F;font-size:8pt\">/pd.|pg---.so</span>\n",
       "            </span><span style=\"color:#a65628\">\n",
       "            <span style=\"font-weight:bold;font-size:11pt;\">)</span>\n",
       "        </span></span>"
      ],
      "text/plain": [
       "<IPython.core.display.HTML object>"
      ]
     },
     "metadata": {},
     "output_type": "display_data"
    },
    {
     "data": {
      "text/html": [
       "<span style=\"color:#a65628\"><span style=\"font-weight:bold;font-size:11pt;\">(</span><span style=\"font-size:11pt;\">\n",
       "            <span style=\"font-weight:bold;color:#a65628\">is</span><span style=\"color:#7F7F6F;font-size:8pt\">/av.|f--3s/en</span>\n",
       "            </span> <span style=\"font-size:11pt;\">\n",
       "            <span style=\"color:#404040\">playing</span><span style=\"color:#7F7F6F;font-size:8pt\">/pd.|pg---.so/en</span>\n",
       "            </span><span style=\"color:#a65628\">\n",
       "            <span style=\"font-weight:bold;font-size:11pt;\">)</span>\n",
       "        </span></span>"
      ],
      "text/plain": [
       "<IPython.core.display.HTML object>"
      ]
     },
     "metadata": {},
     "output_type": "display_data"
    },
    {
     "data": {
      "text/html": [
       "<span style=\"color:#a65628\"><span style=\"font-weight:bold;font-size:11pt;\">(</span><span style=\"font-size:11pt;\">\n",
       "            <span style=\"font-weight:bold;color:#a65628\">very</span><span style=\"color:#7F7F6F;font-size:8pt\">/w/en</span>\n",
       "            </span> <span style=\"font-size:11pt;\">\n",
       "            <span style=\"color:#404040\">old</span><span style=\"color:#7F7F6F;font-size:8pt\">/ma/en</span>\n",
       "            </span><span style=\"color:#a65628\">\n",
       "            <span style=\"font-weight:bold;font-size:11pt;\">)</span>\n",
       "        </span></span>"
      ],
      "text/plain": [
       "<IPython.core.display.HTML object>"
      ]
     },
     "metadata": {},
     "output_type": "display_data"
    },
    {
     "data": {
      "text/html": [
       "<span style=\"font-size:11pt;\">\n",
       "            <span style=\"color:#000\">a</span><span style=\"color:#7F7F6F;font-size:8pt\">/md</span>\n",
       "            </span>"
      ],
      "text/plain": [
       "<IPython.core.display.HTML object>"
      ]
     },
     "metadata": {},
     "output_type": "display_data"
    },
    {
     "data": {
      "text/html": [
       "<span style=\"font-size:11pt;\">\n",
       "            <span style=\"color:#000\">a</span><span style=\"color:#7F7F6F;font-size:8pt\">/md/en</span>\n",
       "            </span>"
      ],
      "text/plain": [
       "<IPython.core.display.HTML object>"
      ]
     },
     "metadata": {},
     "output_type": "display_data"
    },
    {
     "data": {
      "text/html": [
       "<span style=\"font-size:11pt;\">\n",
       "            <span style=\"color:#000\">is</span><span style=\"color:#7F7F6F;font-size:8pt\">/a</span>\n",
       "            </span>"
      ],
      "text/plain": [
       "<IPython.core.display.HTML object>"
      ]
     },
     "metadata": {},
     "output_type": "display_data"
    },
    {
     "data": {
      "text/html": [
       "<span style=\"font-size:11pt;\">\n",
       "            <span style=\"color:#000\">is</span><span style=\"color:#7F7F6F;font-size:8pt\">/av.|f--3s</span>\n",
       "            </span>"
      ],
      "text/plain": [
       "<IPython.core.display.HTML object>"
      ]
     },
     "metadata": {},
     "output_type": "display_data"
    },
    {
     "data": {
      "text/html": [
       "<span style=\"font-size:11pt;\">\n",
       "            <span style=\"color:#000\">is</span><span style=\"color:#7F7F6F;font-size:8pt\">/av.|f--3s/en</span>\n",
       "            </span>"
      ],
      "text/plain": [
       "<IPython.core.display.HTML object>"
      ]
     },
     "metadata": {},
     "output_type": "display_data"
    },
    {
     "data": {
      "text/html": [
       "<span style=\"font-size:11pt;\">\n",
       "            <span style=\"color:#000\">mary</span><span style=\"color:#7F7F6F;font-size:8pt\">/cp.s</span>\n",
       "            </span>"
      ],
      "text/plain": [
       "<IPython.core.display.HTML object>"
      ]
     },
     "metadata": {},
     "output_type": "display_data"
    },
    {
     "data": {
      "text/html": [
       "<span style=\"font-size:11pt;\">\n",
       "            <span style=\"color:#000\">mary</span><span style=\"color:#7F7F6F;font-size:8pt\">/cp.s/en</span>\n",
       "            </span>"
      ],
      "text/plain": [
       "<IPython.core.display.HTML object>"
      ]
     },
     "metadata": {},
     "output_type": "display_data"
    },
    {
     "data": {
      "text/html": [
       "<span style=\"font-size:11pt;\">\n",
       "            <span style=\"color:#000\">old</span><span style=\"color:#7F7F6F;font-size:8pt\">/ma/en</span>\n",
       "            </span>"
      ],
      "text/plain": [
       "<IPython.core.display.HTML object>"
      ]
     },
     "metadata": {},
     "output_type": "display_data"
    },
    {
     "data": {
      "text/html": [
       "<span style=\"font-size:11pt;\">\n",
       "            <span style=\"color:#000\">playing</span><span style=\"color:#7F7F6F;font-size:8pt\">/pd.so</span>\n",
       "            </span>"
      ],
      "text/plain": [
       "<IPython.core.display.HTML object>"
      ]
     },
     "metadata": {},
     "output_type": "display_data"
    },
    {
     "data": {
      "text/html": [
       "<span style=\"font-size:11pt;\">\n",
       "            <span style=\"color:#000\">playing</span><span style=\"color:#7F7F6F;font-size:8pt\">/pd.|pg---.so</span>\n",
       "            </span>"
      ],
      "text/plain": [
       "<IPython.core.display.HTML object>"
      ]
     },
     "metadata": {},
     "output_type": "display_data"
    },
    {
     "data": {
      "text/html": [
       "<span style=\"font-size:11pt;\">\n",
       "            <span style=\"color:#000\">playing</span><span style=\"color:#7F7F6F;font-size:8pt\">/pd.|pg---.so/en</span>\n",
       "            </span>"
      ],
      "text/plain": [
       "<IPython.core.display.HTML object>"
      ]
     },
     "metadata": {},
     "output_type": "display_data"
    },
    {
     "data": {
      "text/html": [
       "<span style=\"font-size:11pt;\">\n",
       "            <span style=\"color:#000\">very</span><span style=\"color:#7F7F6F;font-size:8pt\">/w/en</span>\n",
       "            </span>"
      ],
      "text/plain": [
       "<IPython.core.display.HTML object>"
      ]
     },
     "metadata": {},
     "output_type": "display_data"
    },
    {
     "data": {
      "text/html": [
       "<span style=\"font-size:11pt;\">\n",
       "            <span style=\"color:#000\">violin</span><span style=\"color:#7F7F6F;font-size:8pt\">/cc.s/en</span>\n",
       "            </span>"
      ],
      "text/plain": [
       "<IPython.core.display.HTML object>"
      ]
     },
     "metadata": {},
     "output_type": "display_data"
    }
   ],
   "source": [
    "for edge in hg.all():\n",
    "    show(edge, formatting='oneline', roots_only=False)"
   ]
  },
  {
   "cell_type": "markdown",
   "metadata": {},
   "source": [
    "## Search with patterns"
   ]
  },
  {
   "cell_type": "code",
   "execution_count": 8,
   "metadata": {
    "ExecuteTime": {
     "end_time": "2019-09-27T13:54:04.939527Z",
     "start_time": "2019-09-27T13:54:04.913591Z"
    }
   },
   "outputs": [
    {
     "data": {
      "text/html": [
       "<span style=\"color:#a65628\"><span style=\"font-weight:bold;font-size:11pt;\">(</span><span style=\"color:#377eb8\"><span style=\"font-weight:bold;font-size:11pt;\">(</span><span style=\"font-size:11pt;\">\n",
       "            <span style=\"font-weight:bold;color:#377eb8\">is</span><span style=\"color:#7F7F6F;font-size:8pt\">/a</span>\n",
       "            </span> <span style=\"font-size:11pt;\">\n",
       "            <span style=\"font-weight:bold;color:#404040\">playing</span><span style=\"color:#7F7F6F;font-size:8pt\">/pd.so</span>\n",
       "            </span><span style=\"color:#377eb8\">\n",
       "            <span style=\"font-weight:bold;font-size:11pt;\">)</span>\n",
       "        </span></span> <span style=\"font-size:11pt;\">\n",
       "            <span style=\"color:#404040\">mary</span><span style=\"color:#7F7F6F;font-size:8pt\">/cp.s</span>\n",
       "            </span> <span style=\"color:#377eb8\"><span style=\"font-weight:bold;font-size:11pt;\">[</span><span style=\"font-size:11pt;\">\n",
       "            <span style=\"font-weight:bold;color:#377eb8\">a</span><span style=\"color:#7F7F6F;font-size:8pt\">/md</span>\n",
       "            </span> <span style=\"color:#4daf4a\"><span style=\"font-weight:bold;font-size:11pt;\">[</span><span style=\"color:#984ea3\"><span style=\"font-weight:bold;font-size:11pt;\">(</span><span style=\"font-size:11pt;\">\n",
       "            <span style=\"font-weight:bold;color:#984ea3\">very</span><span style=\"color:#7F7F6F;font-size:8pt\">/w</span>\n",
       "            </span> <span style=\"font-size:11pt;\">\n",
       "            <span style=\"font-weight:bold;color:#404040\">old</span><span style=\"color:#7F7F6F;font-size:8pt\">/ma</span>\n",
       "            </span><span style=\"color:#984ea3\">\n",
       "            <span style=\"font-weight:bold;font-size:11pt;\">)</span>\n",
       "        </span></span> <span style=\"font-size:11pt;\">\n",
       "            <span style=\"color:#404040\">violin</span><span style=\"color:#7F7F6F;font-size:8pt\">/cn.s</span>\n",
       "            </span><span style=\"color:#4daf4a\">\n",
       "            <span style=\"font-weight:bold;font-size:11pt;\">]</span>\n",
       "        </span><span style=\"color:#377eb8\">\n",
       "            <span style=\"font-weight:bold;font-size:11pt;\">]</span>\n",
       "        </span><span style=\"color:#a65628\">\n",
       "            <span style=\"font-weight:bold;font-size:11pt;\">)</span>\n",
       "        </span></span></span></span>"
      ],
      "text/plain": [
       "<IPython.core.display.HTML object>"
      ]
     },
     "metadata": {},
     "output_type": "display_data"
    }
   ],
   "source": [
    "def search_and_show(pattern):\n",
    "    for edge in hg.search(pattern):\n",
    "        show(edge, formatting='oneline', roots_only=False)\n",
    "\n",
    "# '...' at the end indicates that the edge may have an arbitrary number of extra entities\n",
    "search_and_show('((is/a playing/pd.so) ...)')"
   ]
  },
  {
   "cell_type": "code",
   "execution_count": 10,
   "metadata": {
    "ExecuteTime": {
     "end_time": "2019-09-27T13:54:26.308739Z",
     "start_time": "2019-09-27T13:54:26.249419Z"
    }
   },
   "outputs": [
    {
     "name": "stdout",
     "output_type": "stream",
     "text": [
      "example #1:\n"
     ]
    },
    {
     "data": {
      "text/html": [
       "<span style=\"color:#a65628\"><span style=\"font-weight:bold;font-size:11pt;\">(</span><span style=\"color:#377eb8\"><span style=\"font-weight:bold;font-size:11pt;\">(</span><span style=\"font-size:11pt;\">\n",
       "            <span style=\"font-weight:bold;color:#377eb8\">is</span><span style=\"color:#7F7F6F;font-size:8pt\">/a</span>\n",
       "            </span> <span style=\"font-size:11pt;\">\n",
       "            <span style=\"font-weight:bold;color:#404040\">playing</span><span style=\"color:#7F7F6F;font-size:8pt\">/pd.so</span>\n",
       "            </span><span style=\"color:#377eb8\">\n",
       "            <span style=\"font-weight:bold;font-size:11pt;\">)</span>\n",
       "        </span></span> <span style=\"font-size:11pt;\">\n",
       "            <span style=\"color:#404040\">mary</span><span style=\"color:#7F7F6F;font-size:8pt\">/cp.s</span>\n",
       "            </span> <span style=\"color:#377eb8\"><span style=\"font-weight:bold;font-size:11pt;\">[</span><span style=\"font-size:11pt;\">\n",
       "            <span style=\"font-weight:bold;color:#377eb8\">a</span><span style=\"color:#7F7F6F;font-size:8pt\">/md</span>\n",
       "            </span> <span style=\"color:#4daf4a\"><span style=\"font-weight:bold;font-size:11pt;\">[</span><span style=\"color:#984ea3\"><span style=\"font-weight:bold;font-size:11pt;\">(</span><span style=\"font-size:11pt;\">\n",
       "            <span style=\"font-weight:bold;color:#984ea3\">very</span><span style=\"color:#7F7F6F;font-size:8pt\">/w</span>\n",
       "            </span> <span style=\"font-size:11pt;\">\n",
       "            <span style=\"font-weight:bold;color:#404040\">old</span><span style=\"color:#7F7F6F;font-size:8pt\">/ma</span>\n",
       "            </span><span style=\"color:#984ea3\">\n",
       "            <span style=\"font-weight:bold;font-size:11pt;\">)</span>\n",
       "        </span></span> <span style=\"font-size:11pt;\">\n",
       "            <span style=\"color:#404040\">violin</span><span style=\"color:#7F7F6F;font-size:8pt\">/cn.s</span>\n",
       "            </span><span style=\"color:#4daf4a\">\n",
       "            <span style=\"font-weight:bold;font-size:11pt;\">]</span>\n",
       "        </span><span style=\"color:#377eb8\">\n",
       "            <span style=\"font-weight:bold;font-size:11pt;\">]</span>\n",
       "        </span><span style=\"color:#a65628\">\n",
       "            <span style=\"font-weight:bold;font-size:11pt;\">)</span>\n",
       "        </span></span></span></span>"
      ],
      "text/plain": [
       "<IPython.core.display.HTML object>"
      ]
     },
     "metadata": {},
     "output_type": "display_data"
    },
    {
     "name": "stdout",
     "output_type": "stream",
     "text": [
      "example #2:\n"
     ]
    },
    {
     "data": {
      "text/html": [
       "<span style=\"color:#a65628\"><span style=\"font-weight:bold;font-size:11pt;\">(</span><span style=\"color:#377eb8\"><span style=\"font-weight:bold;font-size:11pt;\">(</span><span style=\"font-size:11pt;\">\n",
       "            <span style=\"font-weight:bold;color:#377eb8\">is</span><span style=\"color:#7F7F6F;font-size:8pt\">/a</span>\n",
       "            </span> <span style=\"font-size:11pt;\">\n",
       "            <span style=\"font-weight:bold;color:#404040\">playing</span><span style=\"color:#7F7F6F;font-size:8pt\">/pd.so</span>\n",
       "            </span><span style=\"color:#377eb8\">\n",
       "            <span style=\"font-weight:bold;font-size:11pt;\">)</span>\n",
       "        </span></span> <span style=\"font-size:11pt;\">\n",
       "            <span style=\"color:#404040\">mary</span><span style=\"color:#7F7F6F;font-size:8pt\">/cp.s</span>\n",
       "            </span> <span style=\"color:#377eb8\"><span style=\"font-weight:bold;font-size:11pt;\">[</span><span style=\"font-size:11pt;\">\n",
       "            <span style=\"font-weight:bold;color:#377eb8\">a</span><span style=\"color:#7F7F6F;font-size:8pt\">/md</span>\n",
       "            </span> <span style=\"color:#4daf4a\"><span style=\"font-weight:bold;font-size:11pt;\">[</span><span style=\"color:#984ea3\"><span style=\"font-weight:bold;font-size:11pt;\">(</span><span style=\"font-size:11pt;\">\n",
       "            <span style=\"font-weight:bold;color:#984ea3\">very</span><span style=\"color:#7F7F6F;font-size:8pt\">/w</span>\n",
       "            </span> <span style=\"font-size:11pt;\">\n",
       "            <span style=\"font-weight:bold;color:#404040\">old</span><span style=\"color:#7F7F6F;font-size:8pt\">/ma</span>\n",
       "            </span><span style=\"color:#984ea3\">\n",
       "            <span style=\"font-weight:bold;font-size:11pt;\">)</span>\n",
       "        </span></span> <span style=\"font-size:11pt;\">\n",
       "            <span style=\"color:#404040\">violin</span><span style=\"color:#7F7F6F;font-size:8pt\">/cn.s</span>\n",
       "            </span><span style=\"color:#4daf4a\">\n",
       "            <span style=\"font-weight:bold;font-size:11pt;\">]</span>\n",
       "        </span><span style=\"color:#377eb8\">\n",
       "            <span style=\"font-weight:bold;font-size:11pt;\">]</span>\n",
       "        </span><span style=\"color:#a65628\">\n",
       "            <span style=\"font-weight:bold;font-size:11pt;\">)</span>\n",
       "        </span></span></span></span>"
      ],
      "text/plain": [
       "<IPython.core.display.HTML object>"
      ]
     },
     "metadata": {},
     "output_type": "display_data"
    },
    {
     "name": "stdout",
     "output_type": "stream",
     "text": [
      "example #3:\n"
     ]
    },
    {
     "data": {
      "text/html": [
       "<span style=\"color:#a65628\"><span style=\"font-weight:bold;font-size:11pt;\">(</span><span style=\"color:#377eb8\"><span style=\"font-weight:bold;font-size:11pt;\">(</span><span style=\"font-size:11pt;\">\n",
       "            <span style=\"font-weight:bold;color:#377eb8\">is</span><span style=\"color:#7F7F6F;font-size:8pt\">/a</span>\n",
       "            </span> <span style=\"font-size:11pt;\">\n",
       "            <span style=\"font-weight:bold;color:#404040\">playing</span><span style=\"color:#7F7F6F;font-size:8pt\">/pd.so</span>\n",
       "            </span><span style=\"color:#377eb8\">\n",
       "            <span style=\"font-weight:bold;font-size:11pt;\">)</span>\n",
       "        </span></span> <span style=\"font-size:11pt;\">\n",
       "            <span style=\"color:#404040\">mary</span><span style=\"color:#7F7F6F;font-size:8pt\">/cp.s</span>\n",
       "            </span> <span style=\"color:#377eb8\"><span style=\"font-weight:bold;font-size:11pt;\">[</span><span style=\"font-size:11pt;\">\n",
       "            <span style=\"font-weight:bold;color:#377eb8\">a</span><span style=\"color:#7F7F6F;font-size:8pt\">/md</span>\n",
       "            </span> <span style=\"color:#4daf4a\"><span style=\"font-weight:bold;font-size:11pt;\">[</span><span style=\"color:#984ea3\"><span style=\"font-weight:bold;font-size:11pt;\">(</span><span style=\"font-size:11pt;\">\n",
       "            <span style=\"font-weight:bold;color:#984ea3\">very</span><span style=\"color:#7F7F6F;font-size:8pt\">/w</span>\n",
       "            </span> <span style=\"font-size:11pt;\">\n",
       "            <span style=\"font-weight:bold;color:#404040\">old</span><span style=\"color:#7F7F6F;font-size:8pt\">/ma</span>\n",
       "            </span><span style=\"color:#984ea3\">\n",
       "            <span style=\"font-weight:bold;font-size:11pt;\">)</span>\n",
       "        </span></span> <span style=\"font-size:11pt;\">\n",
       "            <span style=\"color:#404040\">violin</span><span style=\"color:#7F7F6F;font-size:8pt\">/cn.s</span>\n",
       "            </span><span style=\"color:#4daf4a\">\n",
       "            <span style=\"font-weight:bold;font-size:11pt;\">]</span>\n",
       "        </span><span style=\"color:#377eb8\">\n",
       "            <span style=\"font-weight:bold;font-size:11pt;\">]</span>\n",
       "        </span><span style=\"color:#a65628\">\n",
       "            <span style=\"font-weight:bold;font-size:11pt;\">)</span>\n",
       "        </span></span></span></span>"
      ],
      "text/plain": [
       "<IPython.core.display.HTML object>"
      ]
     },
     "metadata": {},
     "output_type": "display_data"
    },
    {
     "data": {
      "text/html": [
       "<span style=\"color:#a65628\"><span style=\"font-weight:bold;font-size:11pt;\">(</span><span style=\"color:#377eb8\"><span style=\"font-weight:bold;font-size:11pt;\">(</span><span style=\"font-size:11pt;\">\n",
       "            <span style=\"font-weight:bold;color:#377eb8\">is</span><span style=\"color:#7F7F6F;font-size:8pt\">/av.|f--3s</span>\n",
       "            </span> <span style=\"font-size:11pt;\">\n",
       "            <span style=\"font-weight:bold;color:#404040\">playing</span><span style=\"color:#7F7F6F;font-size:8pt\">/pd.|pg---.so</span>\n",
       "            </span><span style=\"color:#377eb8\">\n",
       "            <span style=\"font-weight:bold;font-size:11pt;\">)</span>\n",
       "        </span></span> <span style=\"font-size:11pt;\">\n",
       "            <span style=\"color:#404040\">mary</span><span style=\"color:#7F7F6F;font-size:8pt\">/cp.s</span>\n",
       "            </span> <span style=\"color:#377eb8\"><span style=\"font-weight:bold;font-size:11pt;\">[</span><span style=\"font-size:11pt;\">\n",
       "            <span style=\"font-weight:bold;color:#377eb8\">a</span><span style=\"color:#7F7F6F;font-size:8pt\">/md</span>\n",
       "            </span> <span style=\"color:#4daf4a\"><span style=\"font-weight:bold;font-size:11pt;\">[</span><span style=\"color:#984ea3\"><span style=\"font-weight:bold;font-size:11pt;\">(</span><span style=\"font-size:11pt;\">\n",
       "            <span style=\"font-weight:bold;color:#984ea3\">very</span><span style=\"color:#7F7F6F;font-size:8pt\">/w</span>\n",
       "            </span> <span style=\"font-size:11pt;\">\n",
       "            <span style=\"font-weight:bold;color:#404040\">old</span><span style=\"color:#7F7F6F;font-size:8pt\">/ma</span>\n",
       "            </span><span style=\"color:#984ea3\">\n",
       "            <span style=\"font-weight:bold;font-size:11pt;\">)</span>\n",
       "        </span></span> <span style=\"font-size:11pt;\">\n",
       "            <span style=\"color:#404040\">violin</span><span style=\"color:#7F7F6F;font-size:8pt\">/cn.s</span>\n",
       "            </span><span style=\"color:#4daf4a\">\n",
       "            <span style=\"font-weight:bold;font-size:11pt;\">]</span>\n",
       "        </span><span style=\"color:#377eb8\">\n",
       "            <span style=\"font-weight:bold;font-size:11pt;\">]</span>\n",
       "        </span><span style=\"color:#a65628\">\n",
       "            <span style=\"font-weight:bold;font-size:11pt;\">)</span>\n",
       "        </span></span></span></span>"
      ],
      "text/plain": [
       "<IPython.core.display.HTML object>"
      ]
     },
     "metadata": {},
     "output_type": "display_data"
    },
    {
     "name": "stdout",
     "output_type": "stream",
     "text": [
      "example #4:\n"
     ]
    },
    {
     "data": {
      "text/html": [
       "<span style=\"color:#a65628\"><span style=\"font-weight:bold;font-size:11pt;\">(</span><span style=\"color:#377eb8\"><span style=\"font-weight:bold;font-size:11pt;\">(</span><span style=\"font-size:11pt;\">\n",
       "            <span style=\"font-weight:bold;color:#377eb8\">is</span><span style=\"color:#7F7F6F;font-size:8pt\">/a</span>\n",
       "            </span> <span style=\"font-size:11pt;\">\n",
       "            <span style=\"font-weight:bold;color:#404040\">playing</span><span style=\"color:#7F7F6F;font-size:8pt\">/pd.so</span>\n",
       "            </span><span style=\"color:#377eb8\">\n",
       "            <span style=\"font-weight:bold;font-size:11pt;\">)</span>\n",
       "        </span></span> <span style=\"font-size:11pt;\">\n",
       "            <span style=\"color:#404040\">mary</span><span style=\"color:#7F7F6F;font-size:8pt\">/cp.s</span>\n",
       "            </span> <span style=\"color:#377eb8\"><span style=\"font-weight:bold;font-size:11pt;\">[</span><span style=\"font-size:11pt;\">\n",
       "            <span style=\"font-weight:bold;color:#377eb8\">a</span><span style=\"color:#7F7F6F;font-size:8pt\">/md</span>\n",
       "            </span> <span style=\"color:#4daf4a\"><span style=\"font-weight:bold;font-size:11pt;\">[</span><span style=\"color:#984ea3\"><span style=\"font-weight:bold;font-size:11pt;\">(</span><span style=\"font-size:11pt;\">\n",
       "            <span style=\"font-weight:bold;color:#984ea3\">very</span><span style=\"color:#7F7F6F;font-size:8pt\">/w</span>\n",
       "            </span> <span style=\"font-size:11pt;\">\n",
       "            <span style=\"font-weight:bold;color:#404040\">old</span><span style=\"color:#7F7F6F;font-size:8pt\">/ma</span>\n",
       "            </span><span style=\"color:#984ea3\">\n",
       "            <span style=\"font-weight:bold;font-size:11pt;\">)</span>\n",
       "        </span></span> <span style=\"font-size:11pt;\">\n",
       "            <span style=\"color:#404040\">violin</span><span style=\"color:#7F7F6F;font-size:8pt\">/cn.s</span>\n",
       "            </span><span style=\"color:#4daf4a\">\n",
       "            <span style=\"font-weight:bold;font-size:11pt;\">]</span>\n",
       "        </span><span style=\"color:#377eb8\">\n",
       "            <span style=\"font-weight:bold;font-size:11pt;\">]</span>\n",
       "        </span><span style=\"color:#a65628\">\n",
       "            <span style=\"font-weight:bold;font-size:11pt;\">)</span>\n",
       "        </span></span></span></span>"
      ],
      "text/plain": [
       "<IPython.core.display.HTML object>"
      ]
     },
     "metadata": {},
     "output_type": "display_data"
    },
    {
     "data": {
      "text/html": [
       "<span style=\"color:#a65628\"><span style=\"font-weight:bold;font-size:11pt;\">(</span><span style=\"color:#377eb8\"><span style=\"font-weight:bold;font-size:11pt;\">(</span><span style=\"font-size:11pt;\">\n",
       "            <span style=\"font-weight:bold;color:#377eb8\">is</span><span style=\"color:#7F7F6F;font-size:8pt\">/av.|f--3s</span>\n",
       "            </span> <span style=\"font-size:11pt;\">\n",
       "            <span style=\"font-weight:bold;color:#404040\">playing</span><span style=\"color:#7F7F6F;font-size:8pt\">/pd.|pg---.so</span>\n",
       "            </span><span style=\"color:#377eb8\">\n",
       "            <span style=\"font-weight:bold;font-size:11pt;\">)</span>\n",
       "        </span></span> <span style=\"font-size:11pt;\">\n",
       "            <span style=\"color:#404040\">mary</span><span style=\"color:#7F7F6F;font-size:8pt\">/cp.s</span>\n",
       "            </span> <span style=\"color:#377eb8\"><span style=\"font-weight:bold;font-size:11pt;\">[</span><span style=\"font-size:11pt;\">\n",
       "            <span style=\"font-weight:bold;color:#377eb8\">a</span><span style=\"color:#7F7F6F;font-size:8pt\">/md</span>\n",
       "            </span> <span style=\"color:#4daf4a\"><span style=\"font-weight:bold;font-size:11pt;\">[</span><span style=\"color:#984ea3\"><span style=\"font-weight:bold;font-size:11pt;\">(</span><span style=\"font-size:11pt;\">\n",
       "            <span style=\"font-weight:bold;color:#984ea3\">very</span><span style=\"color:#7F7F6F;font-size:8pt\">/w</span>\n",
       "            </span> <span style=\"font-size:11pt;\">\n",
       "            <span style=\"font-weight:bold;color:#404040\">old</span><span style=\"color:#7F7F6F;font-size:8pt\">/ma</span>\n",
       "            </span><span style=\"color:#984ea3\">\n",
       "            <span style=\"font-weight:bold;font-size:11pt;\">)</span>\n",
       "        </span></span> <span style=\"font-size:11pt;\">\n",
       "            <span style=\"color:#404040\">violin</span><span style=\"color:#7F7F6F;font-size:8pt\">/cn.s</span>\n",
       "            </span><span style=\"color:#4daf4a\">\n",
       "            <span style=\"font-weight:bold;font-size:11pt;\">]</span>\n",
       "        </span><span style=\"color:#377eb8\">\n",
       "            <span style=\"font-weight:bold;font-size:11pt;\">]</span>\n",
       "        </span><span style=\"color:#a65628\">\n",
       "            <span style=\"font-weight:bold;font-size:11pt;\">)</span>\n",
       "        </span></span></span></span>"
      ],
      "text/plain": [
       "<IPython.core.display.HTML object>"
      ]
     },
     "metadata": {},
     "output_type": "display_data"
    }
   ],
   "source": [
    "# * matches any entity (atom or hyperedge)\n",
    "print('example #1:')\n",
    "search_and_show('((is/a playing/pd.so) * *)')\n",
    "\n",
    "# @ matches any atom\n",
    "# & mathes any hyperedge\n",
    "print('example #2:')\n",
    "search_and_show('((is/a playing/pd.so) @ &)')\n",
    "\n",
    "# any combination of wildcards and entities is possibleabs\n",
    "print('example #3:')\n",
    "search_and_show('(* mary/cp.s *)')\n",
    "\n",
    "print('example #4:')\n",
    "search_and_show('(& @ (a/md ((very/w old/ma) violin/cn.s)))')"
   ]
  }
 ],
 "metadata": {
  "kernelspec": {
   "display_name": "Python 3",
   "language": "python",
   "name": "python3"
  },
  "language_info": {
   "codemirror_mode": {
    "name": "ipython",
    "version": 3
   },
   "file_extension": ".py",
   "mimetype": "text/x-python",
   "name": "python",
   "nbconvert_exporter": "python",
   "pygments_lexer": "ipython3",
   "version": "3.7.4"
  }
 },
 "nbformat": 4,
 "nbformat_minor": 2
}
